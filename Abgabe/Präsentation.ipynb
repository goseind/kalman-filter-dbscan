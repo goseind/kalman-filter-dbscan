{
 "cells": [
  {
   "cell_type": "markdown",
   "id": "28fedc73",
   "metadata": {
    "slideshow": {
     "slide_type": "slide"
    }
   },
   "source": [
    "# Projekt Machine Learning"
   ]
  },
  {
   "cell_type": "markdown",
   "id": "3380540b",
   "metadata": {
    "slideshow": {
     "slide_type": "slide"
    }
   },
   "source": [
    "## Das Kalman Filter"
   ]
  },
  {
   "cell_type": "code",
   "execution_count": 2,
   "id": "bf002bda",
   "metadata": {
    "slideshow": {
     "slide_type": "skip"
    }
   },
   "outputs": [],
   "source": [
    "from DataGenerationRadar3D import *\n",
    "from DBScan import *\n",
    "from ui import interactive1DExperiment, interactiveDBScan, interactive3DExperiment\n",
    "import numpy as np\n",
    "import matplotlib.pyplot as plt\n",
    "from mpl_toolkits.mplot3d import Axes3D\n",
    "import copy\n",
    "from collections import deque\n",
    "from ipywidgets import *\n",
    "from collections import deque\n",
    "%matplotlib widget"
   ]
  },
  {
   "cell_type": "code",
   "execution_count": 5,
   "id": "49aaf4b2",
   "metadata": {
    "slideshow": {
     "slide_type": "subslide"
    }
   },
   "outputs": [],
   "source": [
    "class KalmanFilter:\n",
    "    # Initialisierung von Kalman Filter\n",
    "    def __init__(self, s_hat, transition_model, H, Q, R):\n",
    "        self.s_hat = s_hat\n",
    "        self.P_hat = np.eye(len(s_hat)) * 100\n",
    "        self.model = transition_model\n",
    "        self.H = H # Measurement Function\n",
    "        self.Q = Q # Process Noise\n",
    "        self.R = R # Measurement Noise\n",
    "    \n",
    "    # Kalman Filter Algorithmus\n",
    "    def step(self, z):\n",
    "        # Prediction\n",
    "        s_hat_p = self.model @ self.s_hat\n",
    "        P_hat_p = self.model @ self.P_hat @ self.model.T + self.Q\n",
    "        # Calculate Kalman Gain\n",
    "        K = P_hat_p @ self.H.T @ np.linalg.inv(self.H @ P_hat_p @ self.H.T + self.R)\n",
    "        # Update covariance of estimation error\n",
    "        self.P_hat = self.P_hat - K @ self.H @ self.P_hat\n",
    "        # Improve estimate\n",
    "        e_m_p = z - self.H @ s_hat_p\n",
    "        self.s_hat = s_hat_p + K @ e_m_p\n",
    "        return self.s_hat"
   ]
  },
  {
   "cell_type": "markdown",
   "id": "97543ed1",
   "metadata": {
    "slideshow": {
     "slide_type": "slide"
    }
   },
   "source": [
    "## 1D Experiment"
   ]
  },
  {
   "cell_type": "markdown",
   "id": "c3920e12",
   "metadata": {
    "slideshow": {
     "slide_type": "subslide"
    }
   },
   "source": []
  },
  {
   "cell_type": "markdown",
   "id": "af2e2ad9",
   "metadata": {
    "slideshow": {
     "slide_type": "slide"
    }
   },
   "source": [
    "## 3D Experiment (ohne DBSCAN)"
   ]
  },
  {
   "cell_type": "code",
   "execution_count": null,
   "id": "9e9e9950",
   "metadata": {
    "slideshow": {
     "slide_type": "subslide"
    }
   },
   "outputs": [],
   "source": []
  },
  {
   "cell_type": "markdown",
   "id": "80192284",
   "metadata": {
    "slideshow": {
     "slide_type": "slide"
    }
   },
   "source": [
    "## DBSCAN"
   ]
  },
  {
   "cell_type": "code",
   "execution_count": 4,
   "id": "928716dc",
   "metadata": {
    "slideshow": {
     "slide_type": "subslide"
    }
   },
   "outputs": [],
   "source": [
    "def pairwise_sq_distance(X1, X2):\n",
    "    # Calculate the pairwise distance between all pairs of points from X1 and X2. \n",
    "    return np.sum(X1**2, axis=1, keepdims=True) - 2*np.matmul(X1, X2.T) + np.sum(X2**2, axis=1, keepdims=True).T\n",
    "\n",
    "class DBSCAN():\n",
    "    \n",
    "    def __init__(self, eps=0.5, minpts=5):\n",
    "        self.eps = eps\n",
    "        self.minpts = minpts\n",
    "        \n",
    "    def fit(self, X):\n",
    "        dist = pairwise_sq_distance(X, X)\n",
    "        neighbours = list(map(lambda d: np.arange(d.shape[0])[d < self.eps**2], dist))\n",
    "        \n",
    "        # Label all points as outliers initially.\n",
    "        self.assignment = np.full((X.shape[0],), -1, dtype=int)\n",
    "        # Find core points.\n",
    "        ## Determine the number of neighbors of each point.\n",
    "        N_neighbors = np.sum(dist < self.eps**2, axis=1)\n",
    "        self.assignment[N_neighbors >= self.minpts] = -2\n",
    "        \n",
    "        # Create clusters.\n",
    "        cluster = 0\n",
    "        stack = deque()\n",
    "        for p in range(X.shape[0]):\n",
    "            if self.assignment[p] != -2:\n",
    "                continue\n",
    "                \n",
    "            self.assignment[p] = cluster \n",
    "            \n",
    "            stack.extend(neighbours[p])\n",
    "            # Expand cluster outwards. \n",
    "            while len(stack) > 0:\n",
    "                n = stack.pop()\n",
    "                label = self.assignment[n]\n",
    "                # If core point include all points in ε-neighborhood.\n",
    "                if label == -2:\n",
    "                    stack.extend(neighbours[n])\n",
    "                # If not core point (edge of cluster).\n",
    "                if label < 0:\n",
    "                    self.assignment[n] = cluster\n",
    "            \n",
    "            cluster += 1\n",
    "            \n",
    "    def fit_predict(self, X):\n",
    "        self.fit(X)\n",
    "        return self.assignment\n",
    "    \n",
    "    def predict(self,X):\n",
    "        return self.assignment"
   ]
  },
  {
   "cell_type": "markdown",
   "id": "0de2f855",
   "metadata": {},
   "source": []
  },
  {
   "cell_type": "markdown",
   "id": "1d6b4d86",
   "metadata": {},
   "source": []
  },
  {
   "cell_type": "markdown",
   "id": "e28e9a09",
   "metadata": {},
   "source": []
  },
  {
   "cell_type": "markdown",
   "id": "9f94b427",
   "metadata": {},
   "source": []
  },
  {
   "cell_type": "markdown",
   "id": "ff996080",
   "metadata": {},
   "source": []
  }
 ],
 "metadata": {
  "celltoolbar": "Slideshow",
  "kernelspec": {
   "display_name": "Python 3 (ipykernel)",
   "language": "python",
   "name": "python3"
  },
  "language_info": {
   "codemirror_mode": {
    "name": "ipython",
    "version": 3
   },
   "file_extension": ".py",
   "mimetype": "text/x-python",
   "name": "python",
   "nbconvert_exporter": "python",
   "pygments_lexer": "ipython3",
   "version": "3.9.7"
  }
 },
 "nbformat": 4,
 "nbformat_minor": 5
}
