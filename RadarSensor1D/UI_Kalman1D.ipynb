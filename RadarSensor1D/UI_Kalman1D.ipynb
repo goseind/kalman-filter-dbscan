{
 "cells": [
  {
   "cell_type": "code",
   "execution_count": 1,
   "metadata": {},
   "outputs": [
    {
     "name": "stdout",
     "output_type": "stream",
     "text": [
      "[[0.005 0.01  0.01 ]\n",
      " [0.01  0.02  0.02 ]\n",
      " [0.01  0.02  0.02 ]]\n"
     ]
    }
   ],
   "source": [
    "%matplotlib notebook\n",
    "from ipywidgets import *\n",
    "import numpy as np\n",
    "import matplotlib.pyplot as plt\n",
    "from DataGenerationRadar1D import GenerateData,rangeAccuracy,velocityAccuracy\n",
    "from KalmanFilter import KalmanFilter\n",
    "\n",
    "from ui import *"
   ]
  },
  {
   "cell_type": "code",
   "execution_count": 2,
   "metadata": {},
   "outputs": [],
   "source": [
    "opt = {\n",
    "        \"initialDistance\": 8,\n",
    "        \"stopTime\": 1,\n",
    "        \"movementRange\": 1,\n",
    "        \"frequency\": 2,\n",
    "        \"SporadicError\": 5,\n",
    "        \"velocity\": 3\n",
    "    }\n",
    "\n",
    "timeAxis, distValues, velValues, truthDistValues, truthVelValues = GenerateData(type=\"Static\", options=opt)"
   ]
  },
  {
   "cell_type": "code",
   "execution_count": 3,
   "metadata": {},
   "outputs": [],
   "source": [
    "R = np.diag([rangeAccuracy**2, velocityAccuracy**2])/3\n",
    "Q = np.diag([0,0,0])\n",
    "s0 = np.array([distValues[0], velValues[0], 0])\n",
    "transition_model = np.array([[1, 0.01, 0.01/2],\n",
    "                             [0, 1, 0.01],\n",
    "                             [0, 0, 0.01]])\n",
    "H =  np.array([[1., 0., 0.],\n",
    "               [0., 1., 0.]])"
   ]
  },
  {
   "cell_type": "code",
   "execution_count": 4,
   "metadata": {
    "scrolled": true
   },
   "outputs": [
    {
     "ename": "NameError",
     "evalue": "name 'dt' is not defined",
     "output_type": "error",
     "traceback": [
      "\u001b[1;31m---------------------------------------------------------------------------\u001b[0m",
      "\u001b[1;31mNameError\u001b[0m                                 Traceback (most recent call last)",
      "\u001b[1;32m<ipython-input-4-06d97069cfa6>\u001b[0m in \u001b[0;36m<module>\u001b[1;34m\u001b[0m\n\u001b[1;32m----> 1\u001b[1;33m \u001b[0mkalmanFilter1D\u001b[0m \u001b[1;33m=\u001b[0m \u001b[0mKalmanFilter\u001b[0m\u001b[1;33m(\u001b[0m\u001b[0ms0\u001b[0m\u001b[1;33m,\u001b[0m \u001b[0mtransition_model\u001b[0m\u001b[1;33m,\u001b[0m \u001b[0mH\u001b[0m\u001b[1;33m,\u001b[0m \u001b[0mQ\u001b[0m\u001b[1;33m,\u001b[0m \u001b[0mR\u001b[0m\u001b[1;33m)\u001b[0m\u001b[1;33m\u001b[0m\u001b[1;33m\u001b[0m\u001b[0m\n\u001b[0m",
      "\u001b[1;32m~\\PycharmProjects\\pml1\\RadarSensor1D\\KalmanFilter.py\u001b[0m in \u001b[0;36m__init__\u001b[1;34m(self, s_hat, transition_model, H, Q, R)\u001b[0m\n\u001b[0;32m     11\u001b[0m         \u001b[0mself\u001b[0m\u001b[1;33m.\u001b[0m\u001b[0mmodel\u001b[0m \u001b[1;33m=\u001b[0m \u001b[0mtransition_model\u001b[0m\u001b[1;33m\u001b[0m\u001b[1;33m\u001b[0m\u001b[0m\n\u001b[0;32m     12\u001b[0m         \u001b[0mself\u001b[0m\u001b[1;33m.\u001b[0m\u001b[0mH\u001b[0m \u001b[1;33m=\u001b[0m \u001b[0mH\u001b[0m \u001b[1;31m# Measurement Function\u001b[0m\u001b[1;33m\u001b[0m\u001b[1;33m\u001b[0m\u001b[0m\n\u001b[1;32m---> 13\u001b[1;33m         \u001b[0mself\u001b[0m\u001b[1;33m.\u001b[0m\u001b[0mQ\u001b[0m \u001b[1;33m=\u001b[0m \u001b[0mQMatrix\u001b[0m\u001b[1;33m(\u001b[0m\u001b[0mdim\u001b[0m\u001b[1;33m=\u001b[0m\u001b[1;36m3\u001b[0m\u001b[1;33m,\u001b[0m \u001b[0mdt\u001b[0m\u001b[1;33m=\u001b[0m\u001b[0mdt\u001b[0m\u001b[1;33m,\u001b[0m \u001b[0mvar\u001b[0m\u001b[1;33m=\u001b[0m\u001b[0mQ_var\u001b[0m\u001b[1;33m)\u001b[0m\u001b[1;33m\u001b[0m\u001b[1;33m\u001b[0m\u001b[0m\n\u001b[0m\u001b[0;32m     14\u001b[0m         \u001b[0mself\u001b[0m\u001b[1;33m.\u001b[0m\u001b[0mR\u001b[0m \u001b[1;33m=\u001b[0m \u001b[0mR\u001b[0m \u001b[1;31m# Measurement Noise.\u001b[0m\u001b[1;33m\u001b[0m\u001b[1;33m\u001b[0m\u001b[0m\n\u001b[0;32m     15\u001b[0m         \u001b[1;32mpass\u001b[0m\u001b[1;33m\u001b[0m\u001b[1;33m\u001b[0m\u001b[0m\n",
      "\u001b[1;31mNameError\u001b[0m: name 'dt' is not defined"
     ]
    }
   ],
   "source": [
    "kalmanFilter1D = KalmanFilter(s0, transition_model, H, Q, R)"
   ]
  },
  {
   "cell_type": "code",
   "execution_count": null,
   "metadata": {},
   "outputs": [],
   "source": [
    "Predictions = [s0]\n",
    "for i in range(1,np.size(timeAxis)):\n",
    "    s = np.array([distValues[i], velValues[i]])\n",
    "    pred = kalmanFilter1D.step(s)\n",
    "    Predictions.append(pred)"
   ]
  },
  {
   "cell_type": "code",
   "execution_count": null,
   "metadata": {},
   "outputs": [],
   "source": [
    "def update(initialDistance, initialVelocity, stopTime, movementRange, frequency, SporadicError, velocity,\n",
    "           acceleration,minRange_value, maxRange_value, maxVelocity_value, rangeAccuracy_value,\n",
    "           velocityAccuracy_value,measurementRate_value,q0,q1,q2,r0,r1,type_value='Static',):\n",
    "    opt = {\n",
    "        \"initialDistance\": initialDistance,\n",
    "        \"initialVelocity\": initialVelocity,\n",
    "        \"stopTime\": stopTime,\n",
    "        \"movementRange\": movementRange,\n",
    "        \"frequency\": frequency,\n",
    "        \"SporadicError\": SporadicError,\n",
    "        \"velocity\": velocity,\n",
    "        \"acceleration\": acceleration\n",
    "\n",
    "    }\n",
    "    setup_ui(type_value)\n",
    "    update_sensor_settings(minRange_value, maxRange_value, maxVelocity_value, rangeAccuracy_value,\n",
    "                           velocityAccuracy_value, measurementRate_value)\n",
    "    timeAxis, distValues, velValues, truthDistValues, truthVelValues = GenerateData(type=type_value, options=opt)\n",
    "    \n",
    "    s0 = np.array([distValues[0], velValues[0], 0])\n",
    "    R = np.diag([r0, r1])\n",
    "    Q = np.diag([q0,q1,q2])\n",
    "    kalmanFilter1D = KalmanFilter(s0, transition_model, H, Q, R)\n",
    "    Predictions = [s0]\n",
    "    for i in range(1, np.size(timeAxis)):\n",
    "        s = np.array([distValues[i], velValues[i]])\n",
    "        pred = kalmanFilter1D.step(s)\n",
    "        Predictions.append(pred)\n",
    "    \n",
    "    #ax_dist.set_xticks(np.arange(0, stopTime, 0.1))\n",
    "    data_dist.set_xdata(timeAxis)\n",
    "    true_dist.set_xdata(timeAxis)\n",
    "    kalman_1D_dist.set_xdata(timeAxis)\n",
    "    data_vel.set_xdata(timeAxis)\n",
    "    true_vel.set_xdata(timeAxis)\n",
    "    kalman_1D_vel.set_xdata(timeAxis)\n",
    "    \n",
    "    Predictions = np.reshape(Predictions, (3, np.size(timeAxis)))\n",
    "    true_dist.set_ydata(truthDistValues)\n",
    "    true_vel.set_ydata(truthVelValues)\n",
    "    kalman_1D_dist.set_ydata(Predictions[0])\n",
    "    kalman_1D_vel.set_ydata(Predictions[1])\n",
    "    data_dist.set_ydata(distValues)\n",
    "    data_vel.set_ydata(velValues)\n",
    "    #fig.canvas.draw_idle()\n",
    "    plt.plot()\n",
    "    plt.show()"
   ]
  },
  {
   "cell_type": "code",
   "execution_count": null,
   "metadata": {},
   "outputs": [],
   "source": [
    "fig = plt.figure()\n",
    "ax_dist = fig.add_subplot(211)\n",
    "ax_vel = fig.add_subplot(212)\n",
    "Predictions = np.reshape(Predictions, (3, np.size(timeAxis)))\n",
    "kalman_1D_dist, = ax_dist.plot(timeAxis, Predictions[0])\n",
    "kalman_1D_vel, = ax_vel.plot(timeAxis, Predictions[1])\n",
    "data_dist, =  ax_dist.plot(timeAxis, distValues)\n",
    "data_vel, = ax_vel.plot(timeAxis, velValues)\n",
    "true_dist, = ax_dist.plot(timeAxis, truthDistValues)\n",
    "true_vel, = ax_vel.plot(timeAxis, truthVelValues)\n",
    "\n",
    "update_dict = {'type_value': type_widget,\n",
    "               'initialDistance': initialDistance_widget,\n",
    "               'stopTime': stopTime_widget,\n",
    "               'movementRange': movementRange_widget,\n",
    "               'frequency': frequency_widget,\n",
    "               'SporadicError': sporadicError_widget,\n",
    "               'velocity': velocity_widget,\n",
    "               'initialVelocity': initialVelocity_widget,\n",
    "               'acceleration': acceleration_widget,\n",
    "               'minRange_value':minRange_widget,\n",
    "               'maxRange_value':maxRange_widget,\n",
    "               'maxVelocity_value':maxVelocity_widget,\n",
    "               'rangeAccuracy_value':rangeAccuracy_widget,\n",
    "               'velocityAccuracy_value':velocityAccuracy_widget,\n",
    "               'measurementRate_value':measurementRate_widget,\n",
    "               'q0':q0_widget,\n",
    "               'q1':q1_widget,\n",
    "               'q2':q2_widget,\n",
    "               'r0':r0_widget,\n",
    "               'r1':r1_widget,}\n",
    "\n",
    "# update_dict = {**option_dict}\n",
    "\n",
    "out = widgets.interactive_output(update,update_dict)\n",
    "ui = widgets.HBox([option_ui,sensor_ui,kalman_ui])\n",
    "display(out,ui)"
   ]
  }
 ],
 "metadata": {
  "celltoolbar": "Edit Metadata",
  "kernelspec": {
   "display_name": "Python 3",
   "language": "python",
   "name": "python3"
  },
  "language_info": {
   "codemirror_mode": {
    "name": "ipython",
    "version": 3
   },
   "file_extension": ".py",
   "mimetype": "text/x-python",
   "name": "python",
   "nbconvert_exporter": "python",
   "pygments_lexer": "ipython3",
   "version": "3.7.4"
  }
 },
 "nbformat": 4,
 "nbformat_minor": 2
}
